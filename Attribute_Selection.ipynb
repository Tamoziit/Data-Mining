{
  "nbformat": 4,
  "nbformat_minor": 0,
  "metadata": {
    "colab": {
      "provenance": [],
      "authorship_tag": "ABX9TyNS0Z8+ynBu5tLUtZkltnTh",
      "include_colab_link": true
    },
    "kernelspec": {
      "name": "python3",
      "display_name": "Python 3"
    },
    "language_info": {
      "name": "python"
    }
  },
  "cells": [
    {
      "cell_type": "markdown",
      "metadata": {
        "id": "view-in-github",
        "colab_type": "text"
      },
      "source": [
        "<a href=\"https://colab.research.google.com/github/Tamoziit/Data-Mining/blob/main/Attribute_Selection.ipynb\" target=\"_parent\"><img src=\"https://colab.research.google.com/assets/colab-badge.svg\" alt=\"Open In Colab\"/></a>"
      ]
    },
    {
      "cell_type": "code",
      "execution_count": 2,
      "metadata": {
        "colab": {
          "base_uri": "https://localhost:8080/"
        },
        "id": "CBkK1bl81RBS",
        "outputId": "77259cad-a245-4a33-eb9c-073973da672f"
      },
      "outputs": [
        {
          "output_type": "stream",
          "name": "stdout",
          "text": [
            "Requirement already satisfied: pandas in /usr/local/lib/python3.11/dist-packages (2.2.2)\n",
            "Requirement already satisfied: numpy>=1.23.2 in /usr/local/lib/python3.11/dist-packages (from pandas) (2.0.2)\n",
            "Requirement already satisfied: python-dateutil>=2.8.2 in /usr/local/lib/python3.11/dist-packages (from pandas) (2.9.0.post0)\n",
            "Requirement already satisfied: pytz>=2020.1 in /usr/local/lib/python3.11/dist-packages (from pandas) (2025.2)\n",
            "Requirement already satisfied: tzdata>=2022.7 in /usr/local/lib/python3.11/dist-packages (from pandas) (2025.2)\n",
            "Requirement already satisfied: six>=1.5 in /usr/local/lib/python3.11/dist-packages (from python-dateutil>=2.8.2->pandas) (1.17.0)\n"
          ]
        }
      ],
      "source": [
        "!pip install pandas"
      ]
    },
    {
      "cell_type": "code",
      "source": [
        "import pandas as pd\n",
        "import math"
      ],
      "metadata": {
        "id": "4IhTnB-M5_N_"
      },
      "execution_count": 3,
      "outputs": []
    },
    {
      "cell_type": "code",
      "source": [
        "df = pd.read_csv(\"./dataset.csv\")\n",
        "\n",
        "print(df)"
      ],
      "metadata": {
        "colab": {
          "base_uri": "https://localhost:8080/"
        },
        "id": "ChaqSVFj6Dmq",
        "outputId": "4b15ea7f-bd96-4b13-ad0b-e6ac2c9254b1"
      },
      "execution_count": 6,
      "outputs": [
        {
          "output_type": "stream",
          "name": "stdout",
          "text": [
            "  Weekend Weather Parents Financial condition     Decision\n",
            "0      W1   Sunny     Yes                Rich       Cinema\n",
            "1      W2   Sunny      No                Rich  Play Tennis\n",
            "2      W3   Windy     Yes                Rich       Cinema\n",
            "3      W4   Rainy     Yes                Poor       Cinema\n",
            "4      W5   Rainy      No                Rich      Stay in\n",
            "5      W6   Rainy     Yes                Poor       Cinema\n",
            "6      W7   Windy      No                Poor       Cinema\n",
            "7      W8   Windy      No                Rich     Shopping\n",
            "8      W9   Windy     Yes                Rich       Cinema\n",
            "9     W10   Sunny      No                Rich  Play Tennis\n"
          ]
        }
      ]
    },
    {
      "cell_type": "code",
      "source": [
        "print(df[df[\"Weather\"] == \"Sunny\"])"
      ],
      "metadata": {
        "colab": {
          "base_uri": "https://localhost:8080/"
        },
        "id": "jxgTXhL76xOJ",
        "outputId": "ca2b5d93-27cc-46eb-f8ba-f80af0a495dd"
      },
      "execution_count": 7,
      "outputs": [
        {
          "output_type": "stream",
          "name": "stdout",
          "text": [
            "  Weekend Weather Parents Financial condition     Decision\n",
            "0      W1   Sunny     Yes                Rich       Cinema\n",
            "1      W2   Sunny      No                Rich  Play Tennis\n",
            "9     W10   Sunny      No                Rich  Play Tennis\n"
          ]
        }
      ]
    },
    {
      "cell_type": "code",
      "source": [
        "# Attribute Selection using Entropy\n",
        "def entropy(attr):\n",
        "    probs = attr.value_counts(normalize=True)\n",
        "    info = 0\n",
        "\n",
        "    for prob in probs:\n",
        "      info += -prob * math.log2(prob)\n",
        "\n",
        "    return info"
      ],
      "metadata": {
        "id": "BrDN1pMV7j83"
      },
      "execution_count": 18,
      "outputs": []
    },
    {
      "cell_type": "code",
      "source": [],
      "metadata": {
        "colab": {
          "base_uri": "https://localhost:8080/"
        },
        "id": "HeDbdYX382V3",
        "outputId": "5bed2f74-18e1-4a16-9ca7-7e9f5a549438"
      },
      "execution_count": 9,
      "outputs": [
        {
          "output_type": "stream",
          "name": "stdout",
          "text": [
            "IG(Weather): 0.6954618442383218\n",
            "IG(Parents): 0.6099865470109875\n",
            "IG(Financial condition): 0.2812908992306926\n"
          ]
        }
      ]
    }
  ]
}