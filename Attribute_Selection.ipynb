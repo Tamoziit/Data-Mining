{
  "nbformat": 4,
  "nbformat_minor": 0,
  "metadata": {
    "colab": {
      "provenance": [],
      "authorship_tag": "ABX9TyOuT6SX54duo/mQpcnJGlU5",
      "include_colab_link": true
    },
    "kernelspec": {
      "name": "python3",
      "display_name": "Python 3"
    },
    "language_info": {
      "name": "python"
    }
  },
  "cells": [
    {
      "cell_type": "markdown",
      "metadata": {
        "id": "view-in-github",
        "colab_type": "text"
      },
      "source": [
        "<a href=\"https://colab.research.google.com/github/Tamoziit/Data-Mining/blob/main/Attribute_Selection.ipynb\" target=\"_parent\"><img src=\"https://colab.research.google.com/assets/colab-badge.svg\" alt=\"Open In Colab\"/></a>"
      ]
    },
    {
      "cell_type": "code",
      "execution_count": null,
      "metadata": {
        "colab": {
          "base_uri": "https://localhost:8080/"
        },
        "id": "CBkK1bl81RBS",
        "outputId": "77259cad-a245-4a33-eb9c-073973da672f"
      },
      "outputs": [
        {
          "output_type": "stream",
          "name": "stdout",
          "text": [
            "Requirement already satisfied: pandas in /usr/local/lib/python3.11/dist-packages (2.2.2)\n",
            "Requirement already satisfied: numpy>=1.23.2 in /usr/local/lib/python3.11/dist-packages (from pandas) (2.0.2)\n",
            "Requirement already satisfied: python-dateutil>=2.8.2 in /usr/local/lib/python3.11/dist-packages (from pandas) (2.9.0.post0)\n",
            "Requirement already satisfied: pytz>=2020.1 in /usr/local/lib/python3.11/dist-packages (from pandas) (2025.2)\n",
            "Requirement already satisfied: tzdata>=2022.7 in /usr/local/lib/python3.11/dist-packages (from pandas) (2025.2)\n",
            "Requirement already satisfied: six>=1.5 in /usr/local/lib/python3.11/dist-packages (from python-dateutil>=2.8.2->pandas) (1.17.0)\n"
          ]
        }
      ],
      "source": [
        "!pip install pandas"
      ]
    },
    {
      "cell_type": "code",
      "source": [
        "import pandas as pd\n",
        "import math"
      ],
      "metadata": {
        "id": "4IhTnB-M5_N_"
      },
      "execution_count": null,
      "outputs": []
    },
    {
      "cell_type": "code",
      "source": [
        "df = pd.read_csv(\"./dataset.csv\")\n",
        "\n",
        "print(df)"
      ],
      "metadata": {
        "colab": {
          "base_uri": "https://localhost:8080/"
        },
        "id": "ChaqSVFj6Dmq",
        "outputId": "1956c097-a264-4ee8-dd6f-f3b1e65bb417"
      },
      "execution_count": 91,
      "outputs": [
        {
          "output_type": "stream",
          "name": "stdout",
          "text": [
            "  Weekend Weather Parents Financial condition     Decision\n",
            "0      W1   Sunny     Yes                Rich       Cinema\n",
            "1      W2   Sunny      No                Rich  Play Tennis\n",
            "2      W3   Windy     Yes                Rich       Cinema\n",
            "3      W4   Rainy     Yes                Poor       Cinema\n",
            "4      W5   Rainy      No                Rich      Stay in\n",
            "5      W6   Rainy     Yes                Poor       Cinema\n",
            "6      W7   Windy      No                Poor       Cinema\n",
            "7      W8   Windy      No                Rich     Shopping\n",
            "8      W9   Windy     Yes                Rich       Cinema\n",
            "9     W10   Sunny      No                Rich  Play Tennis\n"
          ]
        }
      ]
    },
    {
      "cell_type": "code",
      "source": [
        "print(df[df[\"Weather\"] == \"Sunny\"])"
      ],
      "metadata": {
        "colab": {
          "base_uri": "https://localhost:8080/"
        },
        "id": "jxgTXhL76xOJ",
        "outputId": "df5a323d-aac8-41be-c2af-0bbb537ead60"
      },
      "execution_count": 92,
      "outputs": [
        {
          "output_type": "stream",
          "name": "stdout",
          "text": [
            "  Weekend Weather Parents Financial condition     Decision\n",
            "0      W1   Sunny     Yes                Rich       Cinema\n",
            "1      W2   Sunny      No                Rich  Play Tennis\n",
            "9     W10   Sunny      No                Rich  Play Tennis\n"
          ]
        }
      ]
    },
    {
      "cell_type": "markdown",
      "source": [
        "## **Attribute Selection using Information Gain (Entropy)**"
      ],
      "metadata": {
        "id": "Gv12h2v0UpFh"
      }
    },
    {
      "cell_type": "code",
      "source": [
        "# Entropy function\n",
        "def entropy(attr):\n",
        "    probs = attr.value_counts(normalize=True)\n",
        "    info = 0\n",
        "\n",
        "    for prob in probs:\n",
        "      info += -prob * math.log2(prob)\n",
        "\n",
        "    return info"
      ],
      "metadata": {
        "id": "BrDN1pMV7j83"
      },
      "execution_count": 93,
      "outputs": []
    },
    {
      "cell_type": "code",
      "source": [
        "# information gain of subset wrt target\n",
        "def information_gain(df, attr, target=\"Decision\"):\n",
        "    infoTotal = 0\n",
        "    probs = df[attr].value_counts(normalize=True)\n",
        "\n",
        "    for entry, prob in probs.items():\n",
        "        subset = df[df[attr] == entry][target]\n",
        "        infoTotal += prob * entropy(subset)\n",
        "\n",
        "    return entropy(df[target]) - infoTotal"
      ],
      "metadata": {
        "id": "HeDbdYX382V3"
      },
      "execution_count": 94,
      "outputs": []
    },
    {
      "cell_type": "code",
      "source": [
        "for col in df.columns.drop([\"Weekend\", \"Decision\"]):\n",
        "    ig = information_gain(df, col, \"Decision\")\n",
        "    print(f\"Information Gain({col}): {ig}\")"
      ],
      "metadata": {
        "colab": {
          "base_uri": "https://localhost:8080/"
        },
        "id": "gH8depu7RO1L",
        "outputId": "245a4efe-33bb-4f88-df74-acfa9a415a6b"
      },
      "execution_count": 95,
      "outputs": [
        {
          "output_type": "stream",
          "name": "stdout",
          "text": [
            "Information Gain(Weather): 0.6954618442383218\n",
            "Information Gain(Parents): 0.6099865470109875\n",
            "Information Gain(Financial condition): 0.2812908992306926\n"
          ]
        }
      ]
    },
    {
      "cell_type": "code",
      "source": [
        "# Best attribute selection\n",
        "def attribute_selection(df, target=\"Decision\", omit=None, return_all=False):\n",
        "    if omit is None:\n",
        "        omit = []\n",
        "\n",
        "    # Always omitting target and Weekend\n",
        "    omit = list(set(omit + [\"Weekend\", target]))\n",
        "\n",
        "    gains = {}\n",
        "    for col in df.columns.drop(omit):\n",
        "        ig = information_gain(df, col, target)\n",
        "        gains[col] = ig\n",
        "\n",
        "    if return_all:\n",
        "        return dict(sorted(gains.items(), key=lambda x: x[1], reverse=True))\n",
        "    else:\n",
        "        best_attr = max(gains, key=gains.get)\n",
        "        return best_attr, gains[best_attr]"
      ],
      "metadata": {
        "id": "39diAbOEUlI7"
      },
      "execution_count": 96,
      "outputs": []
    },
    {
      "cell_type": "code",
      "source": [
        "all_gains = attribute_selection(df, return_all=True)\n",
        "print(\"Info Gain for all attributes:\")\n",
        "for col, gain in all_gains.items():\n",
        "    print(f\"  {col}: {gain}\")"
      ],
      "metadata": {
        "id": "FOdjNmepcBVf",
        "outputId": "ccaaaa97-1924-4b69-9fb8-400f143a7265",
        "colab": {
          "base_uri": "https://localhost:8080/"
        }
      },
      "execution_count": 97,
      "outputs": [
        {
          "output_type": "stream",
          "name": "stdout",
          "text": [
            "Info Gain for all attributes:\n",
            "  Weather: 0.6954618442383218\n",
            "  Parents: 0.6099865470109875\n",
            "  Financial condition: 0.2812908992306926\n"
          ]
        }
      ]
    },
    {
      "cell_type": "code",
      "source": [
        "attr, gain = attribute_selection(df)\n",
        "print(f\"Best Attribute: {attr}, Info Gain: {gain}\")"
      ],
      "metadata": {
        "colab": {
          "base_uri": "https://localhost:8080/"
        },
        "id": "HzsJp1GcavrI",
        "outputId": "444c64be-7700-4742-b598-279fb8e0a73d"
      },
      "execution_count": 98,
      "outputs": [
        {
          "output_type": "stream",
          "name": "stdout",
          "text": [
            "Best Attribute: Weather, Info Gain: 0.6954618442383218\n"
          ]
        }
      ]
    },
    {
      "cell_type": "code",
      "source": [
        "def D_Tree(df, target=\"Decision\", omit=None, level=0, branch=None):\n",
        "  if omit is None:\n",
        "      omit = []\n",
        "\n",
        "  indent = \"  \" * level\n",
        "\n",
        "  # If all values in target column are the same -> PURE NODE\n",
        "  if len(df[target].unique()) == 1:\n",
        "      print(f\"{indent}lvl:{level} {branch} -> PURE ({df[target].iloc[0]})\")\n",
        "      return\n",
        "\n",
        "  # If no attributes left to split -> MIXED NODE\n",
        "  if len(df.columns.drop(omit + [target, \"Weekend\"])) == 0:\n",
        "      print(f\"{indent}lvl:{level} {branch} -> MIXED ({df[target].value_counts().to_dict()})\")\n",
        "      return\n",
        "\n",
        "  # Finding best attribute\n",
        "  best_attr, gain = attribute_selection(df, target=target, omit=omit)\n",
        "  if branch is None:\n",
        "      print(f\"{indent}lvl{level} {best_attr} -> (Gain={gain:.3f})\")\n",
        "  else:\n",
        "      print(f\"{indent}lvl:{level} {branch} -> {best_attr} (Gain={gain:.3f})\")\n",
        "\n",
        "  # Recursing for each value of best_attr\n",
        "  for val in df[best_attr].unique():\n",
        "      subset = df[df[best_attr] == val]\n",
        "      D_Tree(subset, target=target, omit=omit + [best_attr], level=level+1, branch=f\"{best_attr}={val}\")"
      ],
      "metadata": {
        "id": "98c6kSyYspus"
      },
      "execution_count": 107,
      "outputs": []
    },
    {
      "cell_type": "code",
      "source": [
        "D_Tree(df)"
      ],
      "metadata": {
        "colab": {
          "base_uri": "https://localhost:8080/"
        },
        "id": "pbW8TvqHu-wt",
        "outputId": "9ff18db8-ace4-4b2e-92a8-e3e73a5430fe"
      },
      "execution_count": 108,
      "outputs": [
        {
          "output_type": "stream",
          "name": "stdout",
          "text": [
            "lvl0 Weather -> (Gain=0.695)\n",
            "  lvl:1 Weather=Sunny -> Parents (Gain=0.918)\n",
            "    lvl:2 Parents=Yes -> PURE (Cinema)\n",
            "    lvl:2 Parents=No -> PURE (Play Tennis)\n",
            "  lvl:1 Weather=Windy -> Parents (Gain=0.311)\n",
            "    lvl:2 Parents=Yes -> PURE (Cinema)\n",
            "    lvl:2 Parents=No -> Financial condition (Gain=1.000)\n",
            "      lvl:3 Financial condition=Poor -> PURE (Cinema)\n",
            "      lvl:3 Financial condition=Rich -> PURE (Shopping)\n",
            "  lvl:1 Weather=Rainy -> Parents (Gain=0.918)\n",
            "    lvl:2 Parents=Yes -> PURE (Cinema)\n",
            "    lvl:2 Parents=No -> PURE (Stay in)\n"
          ]
        }
      ]
    }
  ]
}