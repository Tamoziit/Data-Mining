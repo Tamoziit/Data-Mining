{
  "nbformat": 4,
  "nbformat_minor": 0,
  "metadata": {
    "colab": {
      "provenance": [],
      "authorship_tag": "ABX9TyNVBkwc1f/Ep+fXF9zo5XSg",
      "include_colab_link": true
    },
    "kernelspec": {
      "name": "python3",
      "display_name": "Python 3"
    },
    "language_info": {
      "name": "python"
    }
  },
  "cells": [
    {
      "cell_type": "markdown",
      "metadata": {
        "id": "view-in-github",
        "colab_type": "text"
      },
      "source": [
        "<a href=\"https://colab.research.google.com/github/Tamoziit/Data-Mining/blob/main/Attribute_Selection.ipynb\" target=\"_parent\"><img src=\"https://colab.research.google.com/assets/colab-badge.svg\" alt=\"Open In Colab\"/></a>"
      ]
    },
    {
      "cell_type": "code",
      "execution_count": null,
      "metadata": {
        "colab": {
          "base_uri": "https://localhost:8080/"
        },
        "id": "CBkK1bl81RBS",
        "outputId": "77259cad-a245-4a33-eb9c-073973da672f"
      },
      "outputs": [
        {
          "output_type": "stream",
          "name": "stdout",
          "text": [
            "Requirement already satisfied: pandas in /usr/local/lib/python3.11/dist-packages (2.2.2)\n",
            "Requirement already satisfied: numpy>=1.23.2 in /usr/local/lib/python3.11/dist-packages (from pandas) (2.0.2)\n",
            "Requirement already satisfied: python-dateutil>=2.8.2 in /usr/local/lib/python3.11/dist-packages (from pandas) (2.9.0.post0)\n",
            "Requirement already satisfied: pytz>=2020.1 in /usr/local/lib/python3.11/dist-packages (from pandas) (2025.2)\n",
            "Requirement already satisfied: tzdata>=2022.7 in /usr/local/lib/python3.11/dist-packages (from pandas) (2025.2)\n",
            "Requirement already satisfied: six>=1.5 in /usr/local/lib/python3.11/dist-packages (from python-dateutil>=2.8.2->pandas) (1.17.0)\n"
          ]
        }
      ],
      "source": [
        "!pip install pandas"
      ]
    },
    {
      "cell_type": "code",
      "source": [
        "import pandas as pd\n",
        "import math\n",
        "from collections import Counter"
      ],
      "metadata": {
        "id": "4IhTnB-M5_N_"
      },
      "execution_count": null,
      "outputs": []
    },
    {
      "cell_type": "code",
      "source": [
        "df = pd.read_csv(\"./dataset.csv\")\n",
        "\n",
        "print(df)"
      ],
      "metadata": {
        "colab": {
          "base_uri": "https://localhost:8080/"
        },
        "id": "ChaqSVFj6Dmq",
        "outputId": "1956c097-a264-4ee8-dd6f-f3b1e65bb417"
      },
      "execution_count": null,
      "outputs": [
        {
          "output_type": "stream",
          "name": "stdout",
          "text": [
            "  Weekend Weather Parents Financial condition     Decision\n",
            "0      W1   Sunny     Yes                Rich       Cinema\n",
            "1      W2   Sunny      No                Rich  Play Tennis\n",
            "2      W3   Windy     Yes                Rich       Cinema\n",
            "3      W4   Rainy     Yes                Poor       Cinema\n",
            "4      W5   Rainy      No                Rich      Stay in\n",
            "5      W6   Rainy     Yes                Poor       Cinema\n",
            "6      W7   Windy      No                Poor       Cinema\n",
            "7      W8   Windy      No                Rich     Shopping\n",
            "8      W9   Windy     Yes                Rich       Cinema\n",
            "9     W10   Sunny      No                Rich  Play Tennis\n"
          ]
        }
      ]
    },
    {
      "cell_type": "code",
      "source": [
        "print(df[df[\"Weather\"] == \"Sunny\"])"
      ],
      "metadata": {
        "colab": {
          "base_uri": "https://localhost:8080/"
        },
        "id": "jxgTXhL76xOJ",
        "outputId": "df5a323d-aac8-41be-c2af-0bbb537ead60"
      },
      "execution_count": null,
      "outputs": [
        {
          "output_type": "stream",
          "name": "stdout",
          "text": [
            "  Weekend Weather Parents Financial condition     Decision\n",
            "0      W1   Sunny     Yes                Rich       Cinema\n",
            "1      W2   Sunny      No                Rich  Play Tennis\n",
            "9     W10   Sunny      No                Rich  Play Tennis\n"
          ]
        }
      ]
    },
    {
      "cell_type": "markdown",
      "source": [
        "## **Attribute Selection using Information Gain (Entropy)**"
      ],
      "metadata": {
        "id": "Gv12h2v0UpFh"
      }
    },
    {
      "cell_type": "code",
      "source": [
        "# Entropy function\n",
        "def entropy(attr):\n",
        "    probs = attr.value_counts(normalize=True)\n",
        "    info = 0\n",
        "\n",
        "    for prob in probs:\n",
        "      info += -prob * math.log2(prob)\n",
        "\n",
        "    return info"
      ],
      "metadata": {
        "id": "BrDN1pMV7j83"
      },
      "execution_count": null,
      "outputs": []
    },
    {
      "cell_type": "code",
      "source": [
        "# information gain of subset wrt target\n",
        "def information_gain(df, attr, target=\"Decision\"):\n",
        "    infoTotal = 0\n",
        "    probs = df[attr].value_counts(normalize=True)\n",
        "\n",
        "    for entry, prob in probs.items():\n",
        "        subset = df[df[attr] == entry][target]\n",
        "        infoTotal += prob * entropy(subset)\n",
        "\n",
        "    return entropy(df[target]) - infoTotal"
      ],
      "metadata": {
        "id": "HeDbdYX382V3"
      },
      "execution_count": null,
      "outputs": []
    },
    {
      "cell_type": "code",
      "source": [
        "for col in df.columns.drop([\"Weekend\", \"Decision\"]):\n",
        "    ig = information_gain(df, col, \"Decision\")\n",
        "    print(f\"Information Gain({col}): {ig}\")"
      ],
      "metadata": {
        "colab": {
          "base_uri": "https://localhost:8080/"
        },
        "id": "gH8depu7RO1L",
        "outputId": "245a4efe-33bb-4f88-df74-acfa9a415a6b"
      },
      "execution_count": null,
      "outputs": [
        {
          "output_type": "stream",
          "name": "stdout",
          "text": [
            "Information Gain(Weather): 0.6954618442383218\n",
            "Information Gain(Parents): 0.6099865470109875\n",
            "Information Gain(Financial condition): 0.2812908992306926\n"
          ]
        }
      ]
    },
    {
      "cell_type": "code",
      "source": [
        "# Best attribute selection\n",
        "def attribute_selection_entropy(df, target=\"Decision\", omit=None, return_all=False):\n",
        "    if omit is None:\n",
        "        omit = []\n",
        "\n",
        "    # Always omitting target and Weekend\n",
        "    omit = list(set(omit + [\"Weekend\", target]))\n",
        "\n",
        "    gains = {}\n",
        "    for col in df.columns.drop(omit):\n",
        "        ig = information_gain(df, col, target)\n",
        "        gains[col] = ig\n",
        "\n",
        "    if return_all:\n",
        "        return dict(sorted(gains.items(), key=lambda x: x[1], reverse=True))\n",
        "    else:\n",
        "        best_attr = max(gains, key=gains.get)\n",
        "        return best_attr, gains[best_attr]"
      ],
      "metadata": {
        "id": "39diAbOEUlI7"
      },
      "execution_count": null,
      "outputs": []
    },
    {
      "cell_type": "code",
      "source": [
        "all_gains = attribute_selection_entropy(df, return_all=True)\n",
        "print(\"Info Gain for all attributes:\")\n",
        "for col, gain in all_gains.items():\n",
        "    print(f\"  {col}: {gain}\")"
      ],
      "metadata": {
        "id": "FOdjNmepcBVf",
        "outputId": "06d159f5-19f8-4e6e-9cac-9ad59213ece4",
        "colab": {
          "base_uri": "https://localhost:8080/"
        }
      },
      "execution_count": null,
      "outputs": [
        {
          "output_type": "stream",
          "name": "stdout",
          "text": [
            "Info Gain for all attributes:\n",
            "  Weather: 0.6954618442383218\n",
            "  Parents: 0.6099865470109875\n",
            "  Financial condition: 0.2812908992306926\n"
          ]
        }
      ]
    },
    {
      "cell_type": "code",
      "source": [
        "attr, gain = attribute_selection_entropy(df)\n",
        "print(f\"Best Attribute: {attr}, Info Gain: {gain}\")"
      ],
      "metadata": {
        "colab": {
          "base_uri": "https://localhost:8080/"
        },
        "id": "HzsJp1GcavrI",
        "outputId": "4c28aad4-677b-4496-a4b9-3421041b8cba"
      },
      "execution_count": null,
      "outputs": [
        {
          "output_type": "stream",
          "name": "stdout",
          "text": [
            "Best Attribute: Weather, Info Gain: 0.6954618442383218\n"
          ]
        }
      ]
    },
    {
      "cell_type": "code",
      "source": [
        "def D_Tree_entropy(df, target=\"Decision\", omit=None, level=0, branch=None):\n",
        "  if omit is None:\n",
        "      omit = []\n",
        "\n",
        "  indent = \"  \" * level\n",
        "\n",
        "  # If all values in target column are the same -> PURE NODE\n",
        "  if len(df[target].unique()) == 1:\n",
        "      print(f\"{indent}lvl:{level} {branch} -> PURE ({df[target].iloc[0]})\")\n",
        "      return\n",
        "\n",
        "  # If no attributes left to split -> MIXED NODE\n",
        "  if len(df.columns.drop(omit + [target, \"Weekend\"])) == 0:\n",
        "      print(f\"{indent}lvl:{level} {branch} -> MIXED ({df[target].value_counts().to_dict()})\")\n",
        "      return\n",
        "\n",
        "  # Finding best attribute\n",
        "  best_attr, gain = attribute_selection_entropy(df, target=target, omit=omit)\n",
        "  if branch is None:\n",
        "      print(f\"{indent}lvl{level} {best_attr} -> (Gain={gain})\")\n",
        "  else:\n",
        "      print(f\"{indent}lvl:{level} {branch} -> {best_attr} (Gain={gain})\")\n",
        "\n",
        "  # Recursing for each value of best_attr\n",
        "  for val in df[best_attr].unique():\n",
        "      subset = df[df[best_attr] == val]\n",
        "      D_Tree_entropy(subset, target=target, omit=omit + [best_attr], level=level+1, branch=f\"{best_attr}={val}\")"
      ],
      "metadata": {
        "id": "98c6kSyYspus"
      },
      "execution_count": null,
      "outputs": []
    },
    {
      "cell_type": "code",
      "source": [
        "D_Tree_entropy(df)"
      ],
      "metadata": {
        "colab": {
          "base_uri": "https://localhost:8080/"
        },
        "id": "pbW8TvqHu-wt",
        "outputId": "dd33330c-8218-448a-fad4-1f34d2b6e0e0"
      },
      "execution_count": null,
      "outputs": [
        {
          "output_type": "stream",
          "name": "stdout",
          "text": [
            "lvl0 Weather -> (Gain=0.6954618442383218)\n",
            "  lvl:1 Weather=Sunny -> Parents (Gain=0.9182958340544896)\n",
            "    lvl:2 Parents=Yes -> PURE (Cinema)\n",
            "    lvl:2 Parents=No -> PURE (Play Tennis)\n",
            "  lvl:1 Weather=Windy -> Parents (Gain=0.31127812445913283)\n",
            "    lvl:2 Parents=Yes -> PURE (Cinema)\n",
            "    lvl:2 Parents=No -> Financial condition (Gain=1.0)\n",
            "      lvl:3 Financial condition=Poor -> PURE (Cinema)\n",
            "      lvl:3 Financial condition=Rich -> PURE (Shopping)\n",
            "  lvl:1 Weather=Rainy -> Parents (Gain=0.9182958340544896)\n",
            "    lvl:2 Parents=Yes -> PURE (Cinema)\n",
            "    lvl:2 Parents=No -> PURE (Stay in)\n"
          ]
        }
      ]
    },
    {
      "cell_type": "markdown",
      "source": [
        "## **Attribute Selection using GINI Index**"
      ],
      "metadata": {
        "id": "WAByG8ZZF1YF"
      }
    },
    {
      "cell_type": "code",
      "source": [
        "def gini(attr):\n",
        "  counts = Counter(attr)\n",
        "  total = len(attr)\n",
        "  prob_coeff = 0\n",
        "\n",
        "  for count in counts.values():\n",
        "    prob_coeff += (count / total) ** 2\n",
        "\n",
        "  return 1 - prob_coeff"
      ],
      "metadata": {
        "id": "FndDjSNoEihF"
      },
      "execution_count": null,
      "outputs": []
    },
    {
      "cell_type": "code",
      "source": [
        "def gini_index(df, attr, target=\"Decision\"):\n",
        "  values = df[attr].unique()\n",
        "  weighted_gini = 0\n",
        "\n",
        "  for v in values:\n",
        "    subset = df[df[attr] == v]\n",
        "    if len(subset) > 0:\n",
        "        weight = len(subset) / len(df)\n",
        "        weighted_gini += weight * gini(subset[target])\n",
        "\n",
        "  return weighted_gini"
      ],
      "metadata": {
        "id": "XdCIf3PjGGfG"
      },
      "execution_count": null,
      "outputs": []
    },
    {
      "cell_type": "code",
      "source": [
        "# Best attribute selection\n",
        "def attribute_selection_gini(df, target=\"Decision\", omit=None, return_all=False):\n",
        "    if omit is None:\n",
        "        omit = []\n",
        "\n",
        "    # Always omitting target and Weekend\n",
        "    omit = list(set(omit + [\"Weekend\", target]))\n",
        "\n",
        "    ginis = {}\n",
        "    for col in df.columns.drop(omit):\n",
        "        ig = gini_index(df, col, target)\n",
        "        ginis[col] = ig\n",
        "\n",
        "    if return_all:\n",
        "        return dict(sorted(ginis.items(), key=lambda x: x[1], reverse=True))\n",
        "    else:\n",
        "        best_attr = min(ginis, key=ginis.get)\n",
        "        return best_attr, ginis[best_attr]"
      ],
      "metadata": {
        "id": "f-CUS1quHbzh"
      },
      "execution_count": null,
      "outputs": []
    },
    {
      "cell_type": "code",
      "source": [
        "all_indices = attribute_selection_gini(df, return_all=True)\n",
        "print(\"GINI Index for all attributes:\")\n",
        "for col, idx in all_indices.items():\n",
        "    print(f\"  {col}: {idx}\")"
      ],
      "metadata": {
        "colab": {
          "base_uri": "https://localhost:8080/"
        },
        "id": "OuXoeoT8IDS_",
        "outputId": "6bc1712f-c298-4e3a-fd02-e54ddeadf01c"
      },
      "execution_count": null,
      "outputs": [
        {
          "output_type": "stream",
          "name": "stdout",
          "text": [
            "GINI Index for all attributes:\n",
            "  Financial condition: 0.48571428571428565\n",
            "  Weather: 0.41666666666666663\n",
            "  Parents: 0.36\n"
          ]
        }
      ]
    },
    {
      "cell_type": "code",
      "source": [
        "def D_Tree_gini(df, target=\"Decision\", omit=None, level=0, branch=None):\n",
        "  if omit is None:\n",
        "      omit = []\n",
        "\n",
        "  indent = \"  \" * level\n",
        "\n",
        "  # If all values in target column are the same -> PURE NODE\n",
        "  if len(df[target].unique()) == 1:\n",
        "      print(f\"{indent}lvl:{level} {branch} -> PURE ({df[target].iloc[0]})\")\n",
        "      return\n",
        "\n",
        "  # If no attributes left to split -> MIXED NODE\n",
        "  if len(df.columns.drop(omit + [target, \"Weekend\"])) == 0:\n",
        "      print(f\"{indent}lvl:{level} {branch} -> MIXED ({df[target].value_counts().to_dict()})\")\n",
        "      return\n",
        "\n",
        "  # Finding best attribute\n",
        "  best_attr, gini = attribute_selection_gini(df, target=target, omit=omit)\n",
        "  if branch is None:\n",
        "      print(f\"{indent}lvl:{level} {best_attr} -> (GINI Idx.={gini:.8f})\")\n",
        "  else:\n",
        "      print(f\"{indent}lvl:{level} {branch} -> {best_attr} (GINI Idx.={gini:.8f})\")\n",
        "\n",
        "  # Recursing for each value of best_attr\n",
        "  for val in df[best_attr].unique():\n",
        "      subset = df[df[best_attr] == val]\n",
        "      D_Tree_gini(subset, target=target, omit=omit + [best_attr], level=level+1, branch=f\"{best_attr}={val}\")"
      ],
      "metadata": {
        "id": "NP3sytJVIx_m"
      },
      "execution_count": null,
      "outputs": []
    },
    {
      "cell_type": "code",
      "source": [
        "D_Tree_gini(df)"
      ],
      "metadata": {
        "colab": {
          "base_uri": "https://localhost:8080/"
        },
        "id": "ej0lRUW5I5Ha",
        "outputId": "89490543-9c07-4271-bc4f-97859981aa0e"
      },
      "execution_count": null,
      "outputs": [
        {
          "output_type": "stream",
          "name": "stdout",
          "text": [
            "lvl:0 Parents -> (GINI Idx.=0.36000000)\n",
            "  lvl:1 Parents=Yes -> PURE (Cinema)\n",
            "  lvl:1 Parents=No -> Weather (GINI Idx.=0.20000000)\n",
            "    lvl:2 Weather=Sunny -> PURE (Play Tennis)\n",
            "    lvl:2 Weather=Rainy -> PURE (Stay in)\n",
            "    lvl:2 Weather=Windy -> Financial condition (GINI Idx.=0.00000000)\n",
            "      lvl:3 Financial condition=Poor -> PURE (Cinema)\n",
            "      lvl:3 Financial condition=Rich -> PURE (Shopping)\n"
          ]
        }
      ]
    },
    {
      "cell_type": "code",
      "source": [
        "!pip install pypandoc"
      ],
      "metadata": {
        "colab": {
          "base_uri": "https://localhost:8080/"
        },
        "id": "pFjfIvfA7sui",
        "outputId": "7e0c8a3f-395c-40da-8a77-e21d992d3040"
      },
      "execution_count": null,
      "outputs": [
        {
          "output_type": "stream",
          "name": "stdout",
          "text": [
            "Collecting pypandoc\n",
            "  Downloading pypandoc-1.15-py3-none-any.whl.metadata (16 kB)\n",
            "Downloading pypandoc-1.15-py3-none-any.whl (21 kB)\n",
            "Installing collected packages: pypandoc\n",
            "Successfully installed pypandoc-1.15\n"
          ]
        }
      ]
    },
    {
      "cell_type": "code",
      "source": [
        "!apt-get install -y pandoc"
      ],
      "metadata": {
        "colab": {
          "base_uri": "https://localhost:8080/"
        },
        "id": "y3pQQCLE8cst",
        "outputId": "865dee79-e94e-4f86-fac3-1331d09c9e49"
      },
      "execution_count": null,
      "outputs": [
        {
          "output_type": "stream",
          "name": "stdout",
          "text": [
            "Reading package lists... Done\n",
            "Building dependency tree... Done\n",
            "Reading state information... Done\n",
            "The following additional packages will be installed:\n",
            "  libcmark-gfm-extensions0.29.0.gfm.3 libcmark-gfm0.29.0.gfm.3 pandoc-data\n",
            "Suggested packages:\n",
            "  texlive-latex-recommended texlive-xetex texlive-luatex pandoc-citeproc\n",
            "  texlive-latex-extra context wkhtmltopdf librsvg2-bin groff ghc nodejs php\n",
            "  python ruby libjs-mathjax libjs-katex citation-style-language-styles\n",
            "The following NEW packages will be installed:\n",
            "  libcmark-gfm-extensions0.29.0.gfm.3 libcmark-gfm0.29.0.gfm.3 pandoc\n",
            "  pandoc-data\n",
            "0 upgraded, 4 newly installed, 0 to remove and 35 not upgraded.\n",
            "Need to get 20.6 MB of archives.\n",
            "After this operation, 156 MB of additional disk space will be used.\n",
            "Get:1 http://archive.ubuntu.com/ubuntu jammy/universe amd64 libcmark-gfm0.29.0.gfm.3 amd64 0.29.0.gfm.3-3 [115 kB]\n",
            "Get:2 http://archive.ubuntu.com/ubuntu jammy/universe amd64 libcmark-gfm-extensions0.29.0.gfm.3 amd64 0.29.0.gfm.3-3 [25.1 kB]\n",
            "Get:3 http://archive.ubuntu.com/ubuntu jammy/universe amd64 pandoc-data all 2.9.2.1-3ubuntu2 [81.8 kB]\n",
            "Get:4 http://archive.ubuntu.com/ubuntu jammy/universe amd64 pandoc amd64 2.9.2.1-3ubuntu2 [20.3 MB]\n",
            "Fetched 20.6 MB in 2s (8,926 kB/s)\n",
            "Selecting previously unselected package libcmark-gfm0.29.0.gfm.3:amd64.\n",
            "(Reading database ... 126380 files and directories currently installed.)\n",
            "Preparing to unpack .../libcmark-gfm0.29.0.gfm.3_0.29.0.gfm.3-3_amd64.deb ...\n",
            "Unpacking libcmark-gfm0.29.0.gfm.3:amd64 (0.29.0.gfm.3-3) ...\n",
            "Selecting previously unselected package libcmark-gfm-extensions0.29.0.gfm.3:amd64.\n",
            "Preparing to unpack .../libcmark-gfm-extensions0.29.0.gfm.3_0.29.0.gfm.3-3_amd64.deb ...\n",
            "Unpacking libcmark-gfm-extensions0.29.0.gfm.3:amd64 (0.29.0.gfm.3-3) ...\n",
            "Selecting previously unselected package pandoc-data.\n",
            "Preparing to unpack .../pandoc-data_2.9.2.1-3ubuntu2_all.deb ...\n",
            "Unpacking pandoc-data (2.9.2.1-3ubuntu2) ...\n",
            "Selecting previously unselected package pandoc.\n",
            "Preparing to unpack .../pandoc_2.9.2.1-3ubuntu2_amd64.deb ...\n",
            "Unpacking pandoc (2.9.2.1-3ubuntu2) ...\n",
            "Setting up libcmark-gfm0.29.0.gfm.3:amd64 (0.29.0.gfm.3-3) ...\n",
            "Setting up libcmark-gfm-extensions0.29.0.gfm.3:amd64 (0.29.0.gfm.3-3) ...\n",
            "Setting up pandoc-data (2.9.2.1-3ubuntu2) ...\n",
            "Setting up pandoc (2.9.2.1-3ubuntu2) ...\n",
            "Processing triggers for man-db (2.10.2-1) ...\n",
            "Processing triggers for libc-bin (2.35-0ubuntu3.8) ...\n",
            "/sbin/ldconfig.real: /usr/local/lib/libtbbbind_2_5.so.3 is not a symbolic link\n",
            "\n",
            "/sbin/ldconfig.real: /usr/local/lib/libtcm_debug.so.1 is not a symbolic link\n",
            "\n",
            "/sbin/ldconfig.real: /usr/local/lib/libumf.so.0 is not a symbolic link\n",
            "\n",
            "/sbin/ldconfig.real: /usr/local/lib/libhwloc.so.15 is not a symbolic link\n",
            "\n",
            "/sbin/ldconfig.real: /usr/local/lib/libur_adapter_opencl.so.0 is not a symbolic link\n",
            "\n",
            "/sbin/ldconfig.real: /usr/local/lib/libtbbbind_2_0.so.3 is not a symbolic link\n",
            "\n",
            "/sbin/ldconfig.real: /usr/local/lib/libtbbmalloc.so.2 is not a symbolic link\n",
            "\n",
            "/sbin/ldconfig.real: /usr/local/lib/libtbbmalloc_proxy.so.2 is not a symbolic link\n",
            "\n",
            "/sbin/ldconfig.real: /usr/local/lib/libur_adapter_level_zero_v2.so.0 is not a symbolic link\n",
            "\n",
            "/sbin/ldconfig.real: /usr/local/lib/libtcm.so.1 is not a symbolic link\n",
            "\n",
            "/sbin/ldconfig.real: /usr/local/lib/libur_adapter_level_zero.so.0 is not a symbolic link\n",
            "\n",
            "/sbin/ldconfig.real: /usr/local/lib/libtbb.so.12 is not a symbolic link\n",
            "\n",
            "/sbin/ldconfig.real: /usr/local/lib/libur_loader.so.0 is not a symbolic link\n",
            "\n",
            "/sbin/ldconfig.real: /usr/local/lib/libtbbbind.so.3 is not a symbolic link\n",
            "\n"
          ]
        }
      ]
    },
    {
      "cell_type": "code",
      "source": [
        "import pypandoc\n",
        "pypandoc.convert_file(\"Attribute_Selection.ipynb\", \"docx\", outputfile=\"output.docx\")"
      ],
      "metadata": {
        "colab": {
          "base_uri": "https://localhost:8080/",
          "height": 36
        },
        "id": "aqBQXDSf7pB9",
        "outputId": "1341460f-168f-4690-a38d-4bfed766fac9"
      },
      "execution_count": null,
      "outputs": [
        {
          "output_type": "execute_result",
          "data": {
            "text/plain": [
              "''"
            ],
            "application/vnd.google.colaboratory.intrinsic+json": {
              "type": "string"
            }
          },
          "metadata": {},
          "execution_count": 158
        }
      ]
    }
  ]
}