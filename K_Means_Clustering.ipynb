{
  "nbformat": 4,
  "nbformat_minor": 0,
  "metadata": {
    "colab": {
      "provenance": [],
      "authorship_tag": "ABX9TyMl+sPvsNtu9Pjnuc9QQkKn",
      "include_colab_link": true
    },
    "kernelspec": {
      "name": "python3",
      "display_name": "Python 3"
    },
    "language_info": {
      "name": "python"
    }
  },
  "cells": [
    {
      "cell_type": "markdown",
      "metadata": {
        "id": "view-in-github",
        "colab_type": "text"
      },
      "source": [
        "<a href=\"https://colab.research.google.com/github/Tamoziit/Data-Mining/blob/main/K_Means_Clustering.ipynb\" target=\"_parent\"><img src=\"https://colab.research.google.com/assets/colab-badge.svg\" alt=\"Open In Colab\"/></a>"
      ]
    },
    {
      "cell_type": "code",
      "execution_count": null,
      "metadata": {
        "colab": {
          "base_uri": "https://localhost:8080/"
        },
        "id": "NlZeMyKl0BQw",
        "outputId": "6fd75413-2718-4a80-a132-a01acce4fd32"
      },
      "outputs": [
        {
          "output_type": "stream",
          "name": "stdout",
          "text": [
            "Requirement already satisfied: pandas in /usr/local/lib/python3.12/dist-packages (2.2.2)\n",
            "Requirement already satisfied: numpy in /usr/local/lib/python3.12/dist-packages (2.0.2)\n",
            "Requirement already satisfied: matplotlib in /usr/local/lib/python3.12/dist-packages (3.10.0)\n",
            "Requirement already satisfied: python-dateutil>=2.8.2 in /usr/local/lib/python3.12/dist-packages (from pandas) (2.9.0.post0)\n",
            "Requirement already satisfied: pytz>=2020.1 in /usr/local/lib/python3.12/dist-packages (from pandas) (2025.2)\n",
            "Requirement already satisfied: tzdata>=2022.7 in /usr/local/lib/python3.12/dist-packages (from pandas) (2025.2)\n",
            "Requirement already satisfied: contourpy>=1.0.1 in /usr/local/lib/python3.12/dist-packages (from matplotlib) (1.3.3)\n",
            "Requirement already satisfied: cycler>=0.10 in /usr/local/lib/python3.12/dist-packages (from matplotlib) (0.12.1)\n",
            "Requirement already satisfied: fonttools>=4.22.0 in /usr/local/lib/python3.12/dist-packages (from matplotlib) (4.60.1)\n",
            "Requirement already satisfied: kiwisolver>=1.3.1 in /usr/local/lib/python3.12/dist-packages (from matplotlib) (1.4.9)\n",
            "Requirement already satisfied: packaging>=20.0 in /usr/local/lib/python3.12/dist-packages (from matplotlib) (25.0)\n",
            "Requirement already satisfied: pillow>=8 in /usr/local/lib/python3.12/dist-packages (from matplotlib) (11.3.0)\n",
            "Requirement already satisfied: pyparsing>=2.3.1 in /usr/local/lib/python3.12/dist-packages (from matplotlib) (3.2.5)\n",
            "Requirement already satisfied: six>=1.5 in /usr/local/lib/python3.12/dist-packages (from python-dateutil>=2.8.2->pandas) (1.17.0)\n"
          ]
        }
      ],
      "source": [
        "!pip install pandas numpy matplotlib"
      ]
    },
    {
      "cell_type": "code",
      "source": [
        "import numpy as np\n",
        "import pandas as pd\n",
        "import matplotlib.pyplot as plt"
      ],
      "metadata": {
        "id": "TCMokpJr1anK"
      },
      "execution_count": null,
      "outputs": []
    },
    {
      "cell_type": "code",
      "source": [
        "df = pd.read_csv(\"/content/Dataset_1 - Dataset_1.csv\")\n",
        "\n",
        "print(df)"
      ],
      "metadata": {
        "colab": {
          "base_uri": "https://localhost:8080/"
        },
        "id": "pT5Zelmm1qOZ",
        "outputId": "56d6b665-a84a-49ca-d6a1-95d4c12ea43a"
      },
      "execution_count": null,
      "outputs": [
        {
          "output_type": "stream",
          "name": "stdout",
          "text": [
            "     Unnamed: 0        x1        x2  y\n",
            "0             0  4.475986  1.610147  1\n",
            "1             1  0.309710  2.789669  1\n",
            "2             2  4.398344  3.946847  1\n",
            "3             3 -0.660853  2.801566  1\n",
            "4             4  4.044945  4.343379  1\n",
            "..          ...       ...       ... ..\n",
            "295         295 -4.833995 -3.370943  3\n",
            "296         296  1.098572 -7.180859  3\n",
            "297         297 -1.940677 -1.561840  3\n",
            "298         298 -2.365609 -5.799213  3\n",
            "299         299 -3.043808 -1.863421  3\n",
            "\n",
            "[300 rows x 4 columns]\n"
          ]
        }
      ]
    },
    {
      "cell_type": "markdown",
      "source": [
        "**K-Means Clustering**"
      ],
      "metadata": {
        "id": "bblybvNF3Ouo"
      }
    },
    {
      "cell_type": "code",
      "source": [
        "class KMeans:\n",
        "    def __init__(self, k=3, max_iters=100, tolerance=1e-4):\n",
        "        self.k = k\n",
        "        self.max_iters = max_iters\n",
        "        self.tolerance = tolerance\n",
        "\n",
        "    def fit(self, X):\n",
        "        np.random.seed(42)\n",
        "        # Randomly initializing k centroids from data points\n",
        "        random_indices = np.random.choice(len(X), self.k, replace=False)\n",
        "        self.centroids = X[random_indices]\n",
        "\n",
        "        for i in range(self.max_iters):\n",
        "            # Assigning points to nearest centroid\n",
        "            clusters = self.create_clusters(X)\n",
        "\n",
        "            # Computing new centroids\n",
        "            new_centroids = np.array([\n",
        "                np.mean(X[cluster], axis=0) if len(cluster) > 0 else self.centroids[idx]\n",
        "                for idx, cluster in enumerate(clusters)\n",
        "            ])\n",
        "\n",
        "            # Checking convergence\n",
        "            diff = np.linalg.norm(self.centroids - new_centroids)\n",
        "            if diff < self.tolerance:\n",
        "                print(f\"Converged at iteration {i+1}\")\n",
        "                break\n",
        "\n",
        "            self.centroids = new_centroids\n",
        "\n",
        "        # Assigning final labels\n",
        "        self.labels_ = np.empty(len(X))\n",
        "        for cluster_idx, cluster in enumerate(clusters):\n",
        "            for index in cluster:\n",
        "                self.labels_[index] = cluster_idx\n",
        "\n",
        "    def create_clusters(self, X):\n",
        "        clusters = [[] for _ in range(self.k)]\n",
        "        for idx, point in enumerate(X):\n",
        "            centroid_idx = self.closest_centroid(point)\n",
        "            clusters[centroid_idx].append(idx)\n",
        "        return clusters\n",
        "\n",
        "    def closest_centroid(self, point):\n",
        "        distances = [np.linalg.norm(point - centroid) for centroid in self.centroids]\n",
        "        return np.argmin(distances)\n",
        "\n",
        "    def predict(self, X):\n",
        "        return np.array([self.closest_centroid(point) for point in X])"
      ],
      "metadata": {
        "id": "ybouuWOh3NAW"
      },
      "execution_count": null,
      "outputs": []
    },
    {
      "cell_type": "code",
      "source": [
        "X = df[['x1', 'x2']].values\n",
        "k = 3\n",
        "\n",
        "kmeans = KMeans(k=k)\n",
        "kmeans.fit(X)"
      ],
      "metadata": {
        "colab": {
          "base_uri": "https://localhost:8080/"
        },
        "id": "PM2-uJ0D3X7b",
        "outputId": "0bf84a50-5f62-4189-8e36-44cf592d52b5"
      },
      "execution_count": null,
      "outputs": [
        {
          "output_type": "stream",
          "name": "stdout",
          "text": [
            "Converged at iteration 11\n"
          ]
        }
      ]
    },
    {
      "cell_type": "code",
      "source": [
        "df['cluster'] = kmeans.labels_\n",
        "print(df.head())"
      ],
      "metadata": {
        "colab": {
          "base_uri": "https://localhost:8080/"
        },
        "id": "8pDr-fnr4P-j",
        "outputId": "f8e3dcc7-96d2-41dc-ede3-2bc341b1f4b0"
      },
      "execution_count": null,
      "outputs": [
        {
          "output_type": "stream",
          "name": "stdout",
          "text": [
            "   Unnamed: 0        x1        x2  y  cluster\n",
            "0           0  4.475986  1.610147  1      0.0\n",
            "1           1  0.309710  2.789669  1      2.0\n",
            "2           2  4.398344  3.946847  1      2.0\n",
            "3           3 -0.660853  2.801566  1      2.0\n",
            "4           4  4.044945  4.343379  1      2.0\n"
          ]
        }
      ]
    },
    {
      "cell_type": "code",
      "source": [
        "# Plotting the clusters\n",
        "plt.figure(figsize=(8, 6))\n",
        "colors = ['r', 'g', 'b', 'y', 'c', 'm']\n",
        "\n",
        "for cluster_id in range(k):\n",
        "    cluster_points = X[df['cluster'] == cluster_id]\n",
        "    plt.scatter(cluster_points[:, 0], cluster_points[:, 1],\n",
        "                c=colors[cluster_id % len(colors)], label=f'Cluster {cluster_id+1}')\n",
        "\n",
        "# Plotting centroids\n",
        "plt.scatter(kmeans.centroids[:, 0], kmeans.centroids[:, 1],\n",
        "            s=250, marker='*', c='black', label='Centroids')\n",
        "\n",
        "plt.xlabel('x1')\n",
        "plt.ylabel('x2')\n",
        "plt.title('K-Means Clustering (from scratch)')\n",
        "plt.legend()\n",
        "plt.show()"
      ],
      "metadata": {
        "colab": {
          "base_uri": "https://localhost:8080/",
          "height": 523
        },
        "id": "1PzWluvW4U66",
        "outputId": "242a9d2a-d98b-4827-aaa1-0d900aafa77c"
      },
      "execution_count": null,
      "outputs": [
        {
          "output_type": "display_data",
          "data": {
            "text/plain": [
              "<Figure size 800x600 with 1 Axes>"
            ],
            "image/png": "[encoded data removed]"
          },
          "metadata": {}
        }
      ]
    },
    {
      "cell_type": "code",
      "source": [
        "!pip install pypandoc"
      ],
      "metadata": {
        "colab": {
          "base_uri": "https://localhost:8080/"
        },
        "id": "wywQxcKq50Sm",
        "outputId": "dc2b1852-db16-4e8f-bff7-a18ae1ca6d42"
      },
      "execution_count": null,
      "outputs": [
        {
          "output_type": "stream",
          "name": "stdout",
          "text": [
            "Collecting pypandoc\n",
            "  Downloading pypandoc-1.15-py3-none-any.whl.metadata (16 kB)\n",
            "Downloading pypandoc-1.15-py3-none-any.whl (21 kB)\n",
            "Installing collected packages: pypandoc\n",
            "Successfully installed pypandoc-1.15\n"
          ]
        }
      ]
    },
    {
      "cell_type": "code",
      "source": [
        "!apt-get install -y pandoc"
      ],
      "metadata": {
        "colab": {
          "base_uri": "https://localhost:8080/"
        },
        "id": "4iuEgTce53V-",
        "outputId": "5c2e969c-7f0d-410f-a9ca-eb1c963fd611"
      },
      "execution_count": null,
      "outputs": [
        {
          "output_type": "stream",
          "name": "stdout",
          "text": [
            "Reading package lists... Done\n",
            "Building dependency tree... Done\n",
            "Reading state information... Done\n",
            "pandoc is already the newest version (2.9.2.1-3ubuntu2).\n",
            "pandoc set to manually installed.\n",
            "0 upgraded, 0 newly installed, 0 to remove and 38 not upgraded.\n"
          ]
        }
      ]
    },
    {
      "cell_type": "code",
      "source": [
        "import pypandoc\n",
        "pypandoc.convert_file(\"K_Means_Clustering.ipynb\", \"docx\", outputfile=\"K_Means_Clustering.docx\")"
      ],
      "metadata": {
        "id": "gnHvfjW757yc",
        "colab": {
          "base_uri": "https://localhost:8080/",
          "height": 36
        },
        "outputId": "1c8c4be9-bcce-41b4-afa1-077f6e0ad55b"
      },
      "execution_count": 21,
      "outputs": [
        {
          "output_type": "execute_result",
          "data": {
            "text/plain": [
              "''"
            ],
            "application/vnd.google.colaboratory.intrinsic+json": {
              "type": "string"
            }
          },
          "metadata": {},
          "execution_count": 21
        }
      ]
    }
  ]
}